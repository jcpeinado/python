{
 "cells": [
  {
   "cell_type": "markdown",
   "id": "40d3f376",
   "metadata": {
    "id": "40d3f376"
   },
   "source": [
    "# Introduction to `numpy`"
   ]
  },
  {
   "cell_type": "markdown",
   "id": "e5e5ab47",
   "metadata": {
    "id": "e5e5ab47"
   },
   "source": [
    "# Contents:\n",
    "\n",
    "Dataset used: california_housing_test.csv\n",
    "\n",
    "1. Setup\n",
    "2. `numpy`\n",
    "  1. Intro and arrays\n",
    "  2. Loading `numpy`\n",
    "  3. Creating arrays\n",
    "  4. Reshaping\n",
    "  5. Basic operations\n",
    "  6. Logic and filtering\n",
    "  7. Loading data"
   ]
  },
  {
   "cell_type": "markdown",
   "id": "b80d4fb6",
   "metadata": {
    "id": "b80d4fb6"
   },
   "source": [
    "# `numpy`"
   ]
  },
  {
   "cell_type": "markdown",
   "id": "4339b9f2",
   "metadata": {
    "id": "4339b9f2"
   },
   "source": [
    "## What is `numpy`?\n",
    "\n",
    "`numpy` is a Python package for scientific computing. It gives us _homogenous multidimensional arrays_ -- a way of representing grids of elements where all elements are the same data type -- and functions to work efficiently with them. `numpy` both underpins and complements other data science libraries, including `pandas`, `matplotlib`, and `scikit-learn`."
   ]
  },
  {
   "cell_type": "markdown",
   "id": "135cb217",
   "metadata": {
    "id": "135cb217"
   },
   "source": [
    "## Arrays vs lists\n",
    "\n",
    "| `numpy` arrays | Python `list` |\n",
    "|---|---|\n",
    "| all elements must be the same type | elements can be different types |\n",
    "| fixed size | can change size |\n",
    "| n-dimensional | 1-dimensional |\n",
    "| faster to process | slower to process |\n",
    "| consumes less memory | consumes more memory |"
   ]
  },
  {
   "cell_type": "markdown",
   "id": "50f9c343",
   "metadata": {
    "id": "50f9c343"
   },
   "source": [
    "## Loading `numpy`\n",
    "\n",
    "We can `import` numpy like any other module. For convenience, `numpy` is typically loaded `as np` -- an alias that makes referencing it easier."
   ]
  },
  {
   "cell_type": "markdown",
   "id": "ca881dfe",
   "metadata": {},
   "source": [
    "In our Python code, we will import `numpy` as `np`."
   ]
  },
  {
   "cell_type": "code",
   "execution_count": 205,
   "id": "cea5f938",
   "metadata": {
    "id": "cea5f938"
   },
   "outputs": [],
   "source": [
    "import numpy as np"
   ]
  },
  {
   "cell_type": "markdown",
   "id": "7e774e1e",
   "metadata": {
    "id": "7e774e1e"
   },
   "source": [
    "## `numpy` arrays\n",
    "\n",
    "The main object in `numpy` is the `ndarray`, also referred to as the `array`. Dimensions in an array are called _axes_. Most arrays we'll work with will be one-dimensional _vectors_ and two-dimensional _matrices_.\n",
    "\n",
    "We can create an array by calling `np.array()` and passing in data as a single value, like a list. Below is a matrix. The first axis has a length of two, and the second axis has a length of 3."
   ]
  },
  {
   "cell_type": "code",
   "execution_count": 206,
   "id": "cf533fdd",
   "metadata": {
    "colab": {
     "base_uri": "https://localhost:8080/"
    },
    "id": "cf533fdd",
    "outputId": "4ad1a1e1-cab0-4f5b-c3af-2a3412e15c42"
   },
   "outputs": [
    {
     "data": {
      "text/plain": [
       "array([[1, 2, 3],\n",
       "       [3, 2, 1]])"
      ]
     },
     "execution_count": 206,
     "metadata": {},
     "output_type": "execute_result"
    }
   ],
   "source": [
    "a = np.array([[1, 2, 3],\n",
    "              [3, 2, 1]])\n",
    "a"
   ]
  },
  {
   "cell_type": "code",
   "execution_count": 207,
   "id": "3d4a25e2",
   "metadata": {},
   "outputs": [
    {
     "data": {
      "text/plain": [
       "2"
      ]
     },
     "execution_count": 207,
     "metadata": {},
     "output_type": "execute_result"
    }
   ],
   "source": [
    "a.ndim"
   ]
  },
  {
   "cell_type": "code",
   "execution_count": 208,
   "id": "21056017",
   "metadata": {},
   "outputs": [
    {
     "data": {
      "text/plain": [
       "(2, 3)"
      ]
     },
     "execution_count": 208,
     "metadata": {},
     "output_type": "execute_result"
    }
   ],
   "source": [
    "a.shape"
   ]
  },
  {
   "cell_type": "code",
   "execution_count": 209,
   "id": "643ec97f",
   "metadata": {},
   "outputs": [
    {
     "data": {
      "text/plain": [
       "6"
      ]
     },
     "execution_count": 209,
     "metadata": {},
     "output_type": "execute_result"
    }
   ],
   "source": [
    "a.size"
   ]
  },
  {
   "cell_type": "code",
   "execution_count": 210,
   "id": "34906c7f",
   "metadata": {},
   "outputs": [
    {
     "data": {
      "text/plain": [
       "dtype('int32')"
      ]
     },
     "execution_count": 210,
     "metadata": {},
     "output_type": "execute_result"
    }
   ],
   "source": [
    "a.dtype"
   ]
  },
  {
   "cell_type": "markdown",
   "id": "b0f1b710",
   "metadata": {
    "id": "b0f1b710"
   },
   "source": [
    "An `array` has an `ndim` attribute indicating the number of its axes, a `size` indicating the number of values it has, and a `shape` indicating its size in each dimension. It also has a `dtype` describing what data type all of the elements in the array are."
   ]
  },
  {
   "cell_type": "code",
   "execution_count": 211,
   "id": "aa7267e0",
   "metadata": {
    "colab": {
     "base_uri": "https://localhost:8080/"
    },
    "id": "aa7267e0",
    "outputId": "208c112b-0841-4b24-ff58-3eb5b9de911e"
   },
   "outputs": [
    {
     "name": "stdout",
     "output_type": "stream",
     "text": [
      "2\n",
      "(2, 3)\n",
      "6\n",
      "int32\n"
     ]
    }
   ],
   "source": [
    "# number of dimensions\n",
    "print(a.ndim)\n",
    "\n",
    "# notice that the shape is rows x columns\n",
    "print(a.shape)\n",
    "\n",
    "# notice that the size is rows * columns\n",
    "print(a.size)\n",
    "\n",
    "# int32 is a numpy-provided dtype\n",
    "print(a.dtype)"
   ]
  },
  {
   "cell_type": "markdown",
   "id": "19868422",
   "metadata": {
    "id": "19868422"
   },
   "source": [
    "We can create arrays with placeholder content in several ways. This is useful when we know how many elements will be in an array, but not their values, as `numpy` arrays have fixed size. The full list is in [`numpy`'s documentation](https://numpy.org/devdocs/user/basics.creation.html#arrays-creation)."
   ]
  },
  {
   "cell_type": "code",
   "execution_count": 212,
   "id": "1fbe0b9b",
   "metadata": {
    "colab": {
     "base_uri": "https://localhost:8080/"
    },
    "id": "1fbe0b9b",
    "outputId": "56167f5a-fd81-4a25-bf1f-98b541ae35bf"
   },
   "outputs": [
    {
     "data": {
      "text/plain": [
       "array([[[0., 0.],\n",
       "        [0., 0.],\n",
       "        [0., 0.]],\n",
       "\n",
       "       [[0., 0.],\n",
       "        [0., 0.],\n",
       "        [0., 0.]]])"
      ]
     },
     "execution_count": 212,
     "metadata": {},
     "output_type": "execute_result"
    }
   ],
   "source": [
    "# create an 2x3x2 array of zeros. notice the double parentheses\n",
    "np.zeros((2, 3, 2))"
   ]
  },
  {
   "cell_type": "code",
   "execution_count": 213,
   "id": "ecbd2b2b",
   "metadata": {
    "colab": {
     "base_uri": "https://localhost:8080/"
    },
    "id": "ecbd2b2b",
    "outputId": "a1b55b46-0fc7-4cb8-cb75-8e6970fb8711"
   },
   "outputs": [
    {
     "data": {
      "text/plain": [
       "array([[1, 1, 1],\n",
       "       [1, 1, 1]])"
      ]
     },
     "execution_count": 213,
     "metadata": {},
     "output_type": "execute_result"
    }
   ],
   "source": [
    "# create an array of ones based on the earlier a array\n",
    "np.ones_like(a)"
   ]
  },
  {
   "cell_type": "markdown",
   "id": "c24cee39",
   "metadata": {
    "id": "c24cee39"
   },
   "source": [
    "We can also create arrays by specifying a range of values through `arange()` or generating random ones through functions like `random.randint()` and `random.random()`."
   ]
  },
  {
   "cell_type": "code",
   "execution_count": 214,
   "id": "1310f431",
   "metadata": {
    "colab": {
     "base_uri": "https://localhost:8080/"
    },
    "id": "1310f431",
    "outputId": "1acd1a79-534b-40fd-9321-5374cd619dd9"
   },
   "outputs": [
    {
     "data": {
      "text/plain": [
       "array([1, 3, 5, 7, 9])"
      ]
     },
     "execution_count": 214,
     "metadata": {},
     "output_type": "execute_result"
    }
   ],
   "source": [
    "# create a 1D array from 1 til 10 in steps of 2\n",
    "np.arange(1, 10, 2)"
   ]
  },
  {
   "cell_type": "code",
   "execution_count": 215,
   "id": "15ab7ec5",
   "metadata": {
    "colab": {
     "base_uri": "https://localhost:8080/"
    },
    "id": "15ab7ec5",
    "outputId": "adce8fe7-6fd7-4a07-fc89-798a715791ef"
   },
   "outputs": [
    {
     "data": {
      "text/plain": [
       "array([0. , 0.1, 0.2, 0.3, 0.4, 0.5, 0.6, 0.7, 0.8, 0.9])"
      ]
     },
     "execution_count": 215,
     "metadata": {},
     "output_type": "execute_result"
    }
   ],
   "source": [
    "# create a 1D array from 0 to 1 in steps of 0.1\n",
    "np.arange(0, 1, 0.1)"
   ]
  },
  {
   "cell_type": "code",
   "execution_count": 216,
   "id": "d4f35396",
   "metadata": {
    "colab": {
     "base_uri": "https://localhost:8080/"
    },
    "id": "d4f35396",
    "outputId": "26a9ca69-444b-48a5-8b71-dbe19fa7a0b6"
   },
   "outputs": [
    {
     "data": {
      "text/plain": [
       "array([[6, 9, 6, 1],\n",
       "       [1, 2, 8, 7],\n",
       "       [3, 5, 6, 3]])"
      ]
     },
     "execution_count": 216,
     "metadata": {},
     "output_type": "execute_result"
    }
   ],
   "source": [
    "# seed is used to create a reproducible random example\n",
    "np.random.seed(1)\n",
    "# create a 3x4 array of random integers between 1 and 10\n",
    "np.random.randint(1, 10, (3, 4))"
   ]
  },
  {
   "cell_type": "markdown",
   "id": "c7c9f568",
   "metadata": {
    "id": "c7c9f568"
   },
   "source": [
    "We can repeat values and arrays to create bigger ones with `repeat()` and `tile()`.\n",
    "\n",
    "`repeat()` repeats each element of an array a specified number or times.\n",
    "`tile()` repeats the whole input array a specified number of times."
   ]
  },
  {
   "cell_type": "code",
   "execution_count": 217,
   "id": "4e688f6f",
   "metadata": {
    "colab": {
     "base_uri": "https://localhost:8080/"
    },
    "id": "4e688f6f",
    "outputId": "8035124b-db41-46cc-83dd-3a3ea4fe9f81"
   },
   "outputs": [
    {
     "data": {
      "text/plain": [
       "array([10, 10, 10, 10, 10])"
      ]
     },
     "execution_count": 217,
     "metadata": {},
     "output_type": "execute_result"
    }
   ],
   "source": [
    "# create a 1D array through repetition\n",
    "np.repeat(10, 5)"
   ]
  },
  {
   "cell_type": "code",
   "execution_count": 218,
   "id": "z0XDhLZFllzB",
   "metadata": {
    "colab": {
     "base_uri": "https://localhost:8080/"
    },
    "id": "z0XDhLZFllzB",
    "outputId": "9c05353b-f179-4a8e-aecc-d738d9fc8c74"
   },
   "outputs": [
    {
     "data": {
      "text/plain": [
       "array([1, 1, 1, 1, 1, 2, 2, 2, 2, 2, 3, 3, 3, 3, 3, 4, 4, 4, 4, 4, 5, 5,\n",
       "       5, 5, 5])"
      ]
     },
     "execution_count": 218,
     "metadata": {},
     "output_type": "execute_result"
    }
   ],
   "source": [
    "onedim_arr = np.array([1, 2, 3, 4, 5])\n",
    "multidim_arr = np.repeat(onedim_arr, 5)\n",
    "multidim_arr"
   ]
  },
  {
   "cell_type": "code",
   "execution_count": 219,
   "id": "d82d4e65",
   "metadata": {
    "colab": {
     "base_uri": "https://localhost:8080/"
    },
    "id": "d82d4e65",
    "outputId": "e2994978-1459-4969-d85f-39c370b022ad"
   },
   "outputs": [
    {
     "data": {
      "text/plain": [
       "array([[1, 2, 3, 4, 5],\n",
       "       [1, 2, 3, 4, 5],\n",
       "       [1, 2, 3, 4, 5],\n",
       "       [1, 2, 3, 4, 5],\n",
       "       [1, 2, 3, 4, 5]])"
      ]
     },
     "execution_count": 219,
     "metadata": {},
     "output_type": "execute_result"
    }
   ],
   "source": [
    "# create a 2D array through repetition\n",
    "multidim_arr = np.tile(onedim_arr, (5,1))\n",
    "multidim_arr"
   ]
  },
  {
   "cell_type": "code",
   "execution_count": 220,
   "id": "5de34ff9",
   "metadata": {
    "colab": {
     "base_uri": "https://localhost:8080/"
    },
    "id": "5de34ff9",
    "outputId": "5d40d080-75b2-491f-e99d-d4901911b975"
   },
   "outputs": [
    {
     "data": {
      "text/plain": [
       "array([[1, 2, 3, 4, 5, 1, 2, 3, 4, 5, 1, 2, 3, 4, 5],\n",
       "       [1, 2, 3, 4, 5, 1, 2, 3, 4, 5, 1, 2, 3, 4, 5],\n",
       "       [1, 2, 3, 4, 5, 1, 2, 3, 4, 5, 1, 2, 3, 4, 5]])"
      ]
     },
     "execution_count": 220,
     "metadata": {},
     "output_type": "execute_result"
    }
   ],
   "source": [
    "# repeat onedim_arr in multiple directions\n",
    "another_arr = np.tile(onedim_arr, (3,3))\n",
    "another_arr"
   ]
  },
  {
   "cell_type": "code",
   "execution_count": 221,
   "id": "4dd534e2",
   "metadata": {},
   "outputs": [
    {
     "data": {
      "text/plain": [
       "array([[ 5, 10],\n",
       "       [ 4,  8],\n",
       "       [ 3,  6],\n",
       "       [ 2,  4],\n",
       "       [ 1,  2],\n",
       "       [ 0,  0]])"
      ]
     },
     "execution_count": 221,
     "metadata": {},
     "output_type": "execute_result"
    }
   ],
   "source": [
    "b = np.array([[5, 4, 3, 2, 1, 0],\n",
    "              [10, 8, 6, 4, 2, 0]])\n",
    "b.T"
   ]
  },
  {
   "cell_type": "markdown",
   "id": "0ae13590",
   "metadata": {
    "id": "0ae13590"
   },
   "source": [
    "### Simulating data\n",
    "\n",
    "Sometimes, it can be useful to simulate data to make sure an analysis works as expected. `numpy`'s `random` submodule provides support for drawing random samples from a variety of distributions. To generate random samples, we first call `default_rng()` to create a sample Generator. Then, we use the Generator's various distribution methods, like `normal()`, to create sample arrays."
   ]
  },
  {
   "cell_type": "code",
   "execution_count": 222,
   "id": "7cd8a282",
   "metadata": {
    "colab": {
     "base_uri": "https://localhost:8080/"
    },
    "id": "7cd8a282",
    "outputId": "74222bc5-452d-4a66-a604-d25cec3d0243"
   },
   "outputs": [
    {
     "data": {
      "text/plain": [
       "array([[10.7617927 ,  7.40003973, 11.87612799, 12.35141179],\n",
       "       [ 5.12241203,  6.74455123, 10.31960101,  9.20939352],\n",
       "       [ 9.95799711,  7.86739018, 12.19849494, 11.94447984],\n",
       "       [10.16507674, 12.81810302, 11.16877336,  7.85176884],\n",
       "       [10.92187696,  7.6027935 , 12.19612575,  9.87518522]])"
      ]
     },
     "execution_count": 222,
     "metadata": {},
     "output_type": "execute_result"
    }
   ],
   "source": [
    "# create the sample Generator\n",
    "rng = np.random.default_rng(seed=42)\n",
    "\n",
    "# create a 5x4 array w/ normally distributed data\n",
    "# distribution has mean 10, standard dev. 2.5\n",
    "randrng = rng.normal(10, 2.5, (5, 4))\n",
    "randrng"
   ]
  },
  {
   "cell_type": "code",
   "execution_count": 223,
   "id": "f6bd79cb",
   "metadata": {
    "colab": {
     "base_uri": "https://localhost:8080/"
    },
    "id": "f6bd79cb",
    "outputId": "84f52f0e-b30d-4628-8c52-112ab9d31fe4"
   },
   "outputs": [
    {
     "data": {
      "text/plain": [
       "array([[1, 3, 1, 0, 3, 1],\n",
       "       [0, 0, 1, 1, 2, 2],\n",
       "       [0, 1, 0, 0, 3, 1],\n",
       "       [0, 0, 1, 2, 1, 0],\n",
       "       [0, 1, 1, 0, 0, 0]], dtype=int64)"
      ]
     },
     "execution_count": 223,
     "metadata": {},
     "output_type": "execute_result"
    }
   ],
   "source": [
    "# using the same Generator to draw a random sample from a Poisson distribution\n",
    "# lam is 1 and size is 5x6\n",
    "poissonrng = rng.poisson(1, (5, 6))\n",
    "poissonrng"
   ]
  },
  {
   "cell_type": "markdown",
   "id": "a9db9083",
   "metadata": {
    "id": "a9db9083"
   },
   "source": [
    "## Reshaping arrays\n",
    "\n",
    "We can change the shape of an array in various ways, leaving the elements the same."
   ]
  },
  {
   "cell_type": "code",
   "execution_count": 224,
   "id": "cff90fbf",
   "metadata": {
    "colab": {
     "base_uri": "https://localhost:8080/"
    },
    "id": "cff90fbf",
    "outputId": "b5e78188-b6de-4042-a7be-d591c435bc45"
   },
   "outputs": [
    {
     "data": {
      "text/plain": [
       "array([[ 5, 10],\n",
       "       [ 4,  8],\n",
       "       [ 3,  6],\n",
       "       [ 2,  4],\n",
       "       [ 1,  2],\n",
       "       [ 0,  0]])"
      ]
     },
     "execution_count": 224,
     "metadata": {},
     "output_type": "execute_result"
    }
   ],
   "source": [
    "# get the transpose of an array\n",
    "b = np.array([[5, 4, 3, 2, 1, 0],\n",
    "              [10, 8, 6, 4, 2, 0]])\n",
    "b.T"
   ]
  },
  {
   "cell_type": "code",
   "execution_count": 225,
   "id": "588fdb6f",
   "metadata": {
    "colab": {
     "base_uri": "https://localhost:8080/"
    },
    "id": "588fdb6f",
    "outputId": "319b42c6-bcd6-4c1c-9c40-e38263794921"
   },
   "outputs": [
    {
     "data": {
      "text/plain": [
       "array([[ 5,  4,  3],\n",
       "       [ 2,  1,  0],\n",
       "       [10,  8,  6],\n",
       "       [ 4,  2,  0]])"
      ]
     },
     "execution_count": 225,
     "metadata": {},
     "output_type": "execute_result"
    }
   ],
   "source": [
    "# change dimensions\n",
    "b.reshape(4, 3)"
   ]
  },
  {
   "cell_type": "code",
   "execution_count": 226,
   "id": "e7a4a530",
   "metadata": {
    "colab": {
     "base_uri": "https://localhost:8080/"
    },
    "id": "e7a4a530",
    "outputId": "e21e5f35-0530-4126-d3db-d703db030639"
   },
   "outputs": [
    {
     "data": {
      "text/plain": [
       "array([ 5,  4,  3,  2,  1,  0, 10,  8,  6,  4,  2,  0])"
      ]
     },
     "execution_count": 226,
     "metadata": {},
     "output_type": "execute_result"
    }
   ],
   "source": [
    "# collapse an array to one dimension\n",
    "b.flatten()"
   ]
  },
  {
   "cell_type": "markdown",
   "id": "62ddbb94",
   "metadata": {
    "id": "62ddbb94"
   },
   "source": [
    "If two arrays share the same size along an axis, we can stack them with `np.hstack()` and `np.vstack()`. Notice that we pass the arrays to stack as a tuple."
   ]
  },
  {
   "cell_type": "code",
   "execution_count": 227,
   "id": "a584ab74",
   "metadata": {},
   "outputs": [
    {
     "data": {
      "text/plain": [
       "array([[1, 2, 3],\n",
       "       [3, 2, 1]])"
      ]
     },
     "execution_count": 227,
     "metadata": {},
     "output_type": "execute_result"
    }
   ],
   "source": [
    "a"
   ]
  },
  {
   "cell_type": "code",
   "execution_count": 228,
   "id": "ae9f57e9",
   "metadata": {},
   "outputs": [
    {
     "data": {
      "text/plain": [
       "array([[ 5,  4,  3,  2,  1,  0],\n",
       "       [10,  8,  6,  4,  2,  0]])"
      ]
     },
     "execution_count": 228,
     "metadata": {},
     "output_type": "execute_result"
    }
   ],
   "source": [
    "b\n"
   ]
  },
  {
   "cell_type": "code",
   "execution_count": 229,
   "id": "96677720",
   "metadata": {
    "colab": {
     "base_uri": "https://localhost:8080/"
    },
    "id": "96677720",
    "outputId": "b3b65f88-b655-41b6-f775-86b571cf80d2"
   },
   "outputs": [
    {
     "data": {
      "text/plain": [
       "array([[ 5,  4,  3,  2,  1,  0,  1,  2,  3],\n",
       "       [10,  8,  6,  4,  2,  0,  3,  2,  1]])"
      ]
     },
     "execution_count": 229,
     "metadata": {},
     "output_type": "execute_result"
    }
   ],
   "source": [
    "# stack a and b horizontally\n",
    "np.hstack((b, a))"
   ]
  },
  {
   "cell_type": "code",
   "execution_count": 230,
   "id": "a08583b9",
   "metadata": {},
   "outputs": [
    {
     "data": {
      "text/plain": [
       "array([[ 5,  4,  3],\n",
       "       [ 2,  1,  0],\n",
       "       [10,  8,  6],\n",
       "       [ 4,  2,  0]])"
      ]
     },
     "execution_count": 230,
     "metadata": {},
     "output_type": "execute_result"
    }
   ],
   "source": [
    "b.reshape(4,3)"
   ]
  },
  {
   "cell_type": "code",
   "execution_count": 231,
   "id": "d84a8fdc",
   "metadata": {
    "colab": {
     "base_uri": "https://localhost:8080/"
    },
    "id": "d84a8fdc",
    "outputId": "e5b20499-ebbe-45a4-cf60-f5493ca00085"
   },
   "outputs": [
    {
     "data": {
      "text/plain": [
       "array([[ 5,  4,  3],\n",
       "       [ 2,  1,  0],\n",
       "       [10,  8,  6],\n",
       "       [ 4,  2,  0],\n",
       "       [ 1,  2,  3],\n",
       "       [ 3,  2,  1]])"
      ]
     },
     "execution_count": 231,
     "metadata": {},
     "output_type": "execute_result"
    }
   ],
   "source": [
    "# reshape b before stacking vertically\n",
    "np.vstack((b.reshape(4, 3), a))"
   ]
  },
  {
   "cell_type": "markdown",
   "id": "ecf0d862",
   "metadata": {
    "id": "ecf0d862"
   },
   "source": [
    "## Basic operations\n",
    "\n",
    "`numpy` arrays let us perform vector operations, manipulating all the elements in an axis without writing loops."
   ]
  },
  {
   "cell_type": "code",
   "execution_count": 232,
   "id": "c8789eee",
   "metadata": {
    "colab": {
     "base_uri": "https://localhost:8080/"
    },
    "id": "c8789eee",
    "outputId": "df95b44c-9762-4db3-e6a6-baf3f604051c"
   },
   "outputs": [
    {
     "data": {
      "text/plain": [
       "array([ 5, 10, 15, 20])"
      ]
     },
     "execution_count": 232,
     "metadata": {},
     "output_type": "execute_result"
    }
   ],
   "source": [
    "arr1 = np.array([5, 10, 15, 20])\n",
    "arr1"
   ]
  },
  {
   "cell_type": "code",
   "execution_count": 233,
   "id": "3221b5ee",
   "metadata": {
    "colab": {
     "base_uri": "https://localhost:8080/"
    },
    "id": "3221b5ee",
    "outputId": "02a3399f-3890-405c-a145-904aa48670ff"
   },
   "outputs": [
    {
     "data": {
      "text/plain": [
       "array([5, 6, 7, 8])"
      ]
     },
     "execution_count": 233,
     "metadata": {},
     "output_type": "execute_result"
    }
   ],
   "source": [
    "arr2 = np.arange(5, 9)\n",
    "arr2"
   ]
  },
  {
   "cell_type": "code",
   "execution_count": 234,
   "id": "ee65808d",
   "metadata": {},
   "outputs": [
    {
     "data": {
      "text/plain": [
       "array([ 0,  4,  8, 12])"
      ]
     },
     "execution_count": 234,
     "metadata": {},
     "output_type": "execute_result"
    }
   ],
   "source": [
    "arr1-arr2"
   ]
  },
  {
   "cell_type": "code",
   "execution_count": 235,
   "id": "af1dcf02",
   "metadata": {},
   "outputs": [
    {
     "data": {
      "text/plain": [
       "array([10, 20, 30, 40])"
      ]
     },
     "execution_count": 235,
     "metadata": {},
     "output_type": "execute_result"
    }
   ],
   "source": [
    "arr1*2"
   ]
  },
  {
   "cell_type": "code",
   "execution_count": 236,
   "id": "31e9ffbf",
   "metadata": {},
   "outputs": [],
   "source": [
    "arr3 = np.array([1,2])"
   ]
  },
  {
   "cell_type": "code",
   "execution_count": 237,
   "id": "d253c909",
   "metadata": {},
   "outputs": [],
   "source": [
    "#arr1+arr3"
   ]
  },
  {
   "cell_type": "code",
   "execution_count": 238,
   "id": "fa7ace7e",
   "metadata": {},
   "outputs": [
    {
     "data": {
      "text/plain": [
       "50"
      ]
     },
     "execution_count": 238,
     "metadata": {},
     "output_type": "execute_result"
    }
   ],
   "source": [
    "arr1.sum()"
   ]
  },
  {
   "cell_type": "code",
   "execution_count": 239,
   "id": "c18e4e7d",
   "metadata": {},
   "outputs": [
    {
     "data": {
      "text/plain": [
       "20"
      ]
     },
     "execution_count": 239,
     "metadata": {},
     "output_type": "execute_result"
    }
   ],
   "source": [
    "arr1.max()"
   ]
  },
  {
   "cell_type": "code",
   "execution_count": 240,
   "id": "9c4b725a",
   "metadata": {},
   "outputs": [
    {
     "data": {
      "text/plain": [
       "12.5"
      ]
     },
     "execution_count": 240,
     "metadata": {},
     "output_type": "execute_result"
    }
   ],
   "source": [
    "arr1.mean()"
   ]
  },
  {
   "cell_type": "code",
   "execution_count": 241,
   "id": "355a767b",
   "metadata": {
    "colab": {
     "base_uri": "https://localhost:8080/"
    },
    "id": "355a767b",
    "outputId": "16cc0ef5-ec63-45ab-e65a-034f05cd80fa"
   },
   "outputs": [
    {
     "data": {
      "text/plain": [
       "array([ 0.00000000e+00,  7.07106781e-01,  1.00000000e+00,  7.07106781e-01,\n",
       "        1.22464680e-16, -7.07106781e-01, -1.00000000e+00, -7.07106781e-01])"
      ]
     },
     "execution_count": 241,
     "metadata": {},
     "output_type": "execute_result"
    }
   ],
   "source": [
    "np.sin(np.arange(0, 360, 45) * np.pi/180)"
   ]
  },
  {
   "cell_type": "markdown",
   "id": "1a39707c",
   "metadata": {
    "id": "1a39707c"
   },
   "source": [
    "We can perform operations when arrays are the same length along the axis in use, or when values can be _broadcast_, or repeated, along an axis."
   ]
  },
  {
   "cell_type": "code",
   "execution_count": 242,
   "id": "e5dada56",
   "metadata": {
    "colab": {
     "base_uri": "https://localhost:8080/"
    },
    "id": "e5dada56",
    "outputId": "5cad00b0-8f45-4cec-9223-1f6ffe3a7d2e"
   },
   "outputs": [
    {
     "data": {
      "text/plain": [
       "array([ 0,  4,  8, 12])"
      ]
     },
     "execution_count": 242,
     "metadata": {},
     "output_type": "execute_result"
    }
   ],
   "source": [
    "# arr1 and arr2 are the same length\n",
    "arr1 - arr2"
   ]
  },
  {
   "cell_type": "code",
   "execution_count": 243,
   "id": "70a2b6b7",
   "metadata": {
    "colab": {
     "base_uri": "https://localhost:8080/"
    },
    "id": "70a2b6b7",
    "outputId": "3a25d030-a820-4000-f758-b14cb2751a75"
   },
   "outputs": [
    {
     "data": {
      "text/plain": [
       "[0, 4, 8, 12]"
      ]
     },
     "execution_count": 243,
     "metadata": {},
     "output_type": "execute_result"
    }
   ],
   "source": [
    "results = []\n",
    "for i, j in zip(arr1, arr2):\n",
    "    results.append(i - j)\n",
    "\n",
    "results"
   ]
  },
  {
   "cell_type": "code",
   "execution_count": 244,
   "id": "11d5c9ab",
   "metadata": {
    "colab": {
     "base_uri": "https://localhost:8080/"
    },
    "id": "11d5c9ab",
    "outputId": "2b7a9f91-e050-4e9d-a6d3-efbbb5d25aa2"
   },
   "outputs": [
    {
     "data": {
      "text/plain": [
       "array([10, 20, 30, 40])"
      ]
     },
     "execution_count": 244,
     "metadata": {},
     "output_type": "execute_result"
    }
   ],
   "source": [
    "# multiple each element in arr1 by 2\n",
    "arr1 * 2"
   ]
  },
  {
   "cell_type": "code",
   "execution_count": 245,
   "id": "d96c4676",
   "metadata": {
    "colab": {
     "base_uri": "https://localhost:8080/",
     "height": 191
    },
    "id": "d96c4676",
    "outputId": "78f89eb2-f4a8-46e3-8d42-829004a612d9"
   },
   "outputs": [],
   "source": [
    "# incompatible shapes\n",
    "#arr2 + np.array([1, 2])"
   ]
  },
  {
   "cell_type": "code",
   "execution_count": 246,
   "id": "641a7216",
   "metadata": {},
   "outputs": [
    {
     "data": {
      "text/plain": [
       "array([5, 6, 7, 8])"
      ]
     },
     "execution_count": 246,
     "metadata": {},
     "output_type": "execute_result"
    }
   ],
   "source": [
    "arr2"
   ]
  },
  {
   "cell_type": "code",
   "execution_count": 247,
   "id": "62a8f6e4",
   "metadata": {},
   "outputs": [
    {
     "data": {
      "text/plain": [
       "array([1, 2])"
      ]
     },
     "execution_count": 247,
     "metadata": {},
     "output_type": "execute_result"
    }
   ],
   "source": [
    "np.array([1, 2])"
   ]
  },
  {
   "cell_type": "code",
   "execution_count": 248,
   "id": "e775898d",
   "metadata": {
    "colab": {
     "base_uri": "https://localhost:8080/"
    },
    "id": "e775898d",
    "outputId": "84b745d4-5ee8-49f7-a6cd-31ed1e06f6e6"
   },
   "outputs": [
    {
     "data": {
      "text/plain": [
       "[6, 8]"
      ]
     },
     "execution_count": 248,
     "metadata": {},
     "output_type": "execute_result"
    }
   ],
   "source": [
    "short_output = []\n",
    "for i, j in zip(arr2, np.array([1, 2])):\n",
    "    short_output.append(i + j)\n",
    "\n",
    "short_output"
   ]
  },
  {
   "cell_type": "markdown",
   "id": "48205385",
   "metadata": {
    "id": "48205385"
   },
   "source": [
    "We can also summarize the values in an array."
   ]
  },
  {
   "cell_type": "code",
   "execution_count": 249,
   "id": "c97fff71",
   "metadata": {
    "colab": {
     "base_uri": "https://localhost:8080/"
    },
    "id": "c97fff71",
    "outputId": "1dd22e1d-709a-4900-dab1-33177fd29eb7"
   },
   "outputs": [
    {
     "name": "stdout",
     "output_type": "stream",
     "text": [
      "arr1 sums to 50.\n",
      "Its max value is 20, and its mean is 12.5.\n"
     ]
    }
   ],
   "source": [
    "print(f'''arr1 sums to {arr1.sum()}.\n",
    "Its max value is {arr1.max()}, and its mean is {arr1.mean()}.''')"
   ]
  },
  {
   "cell_type": "markdown",
   "id": "729111af",
   "metadata": {
    "id": "729111af"
   },
   "source": [
    "Some descriptive statistics are only `numpy` functions, and are not available as `array` methods like we saw above."
   ]
  },
  {
   "cell_type": "code",
   "execution_count": 250,
   "id": "0a29625a",
   "metadata": {
    "colab": {
     "base_uri": "https://localhost:8080/"
    },
    "id": "0a29625a",
    "outputId": "406843b2-3c27-4d7e-90ef-df9998e584a6"
   },
   "outputs": [
    {
     "data": {
      "text/plain": [
       "12.5"
      ]
     },
     "execution_count": 250,
     "metadata": {},
     "output_type": "execute_result"
    }
   ],
   "source": [
    "np.median(arr1)"
   ]
  },
  {
   "cell_type": "code",
   "execution_count": 251,
   "id": "306e7f1f",
   "metadata": {
    "colab": {
     "base_uri": "https://localhost:8080/",
     "height": 174
    },
    "id": "306e7f1f",
    "outputId": "1e585ed0-4f91-464c-e7d5-dfeb9581da7c"
   },
   "outputs": [],
   "source": [
    "#arr1.median()"
   ]
  },
  {
   "cell_type": "markdown",
   "id": "2efda296",
   "metadata": {
    "id": "2efda296"
   },
   "source": [
    "## Operations in multiple dimensions\n",
    "\n",
    "In a multi-dimensional array like a matrix, elements of same-sized arrays will be paired up for operations, just as with vectors. If we perform an operation with a matrix and a vector of the same size in one dimension, the vector can be _broadcast_ to repeat along the other dimension."
   ]
  },
  {
   "cell_type": "code",
   "execution_count": 252,
   "id": "53300dfb",
   "metadata": {},
   "outputs": [
    {
     "data": {
      "text/plain": [
       "array([  0,  10,  20,  30,  40,  50,  60,  70,  80,  90, 100, 110])"
      ]
     },
     "execution_count": 252,
     "metadata": {},
     "output_type": "execute_result"
    }
   ],
   "source": [
    "tens = np.arange(0, 120, 10)\n",
    "tens"
   ]
  },
  {
   "cell_type": "code",
   "execution_count": 253,
   "id": "3a9faa69",
   "metadata": {
    "colab": {
     "base_uri": "https://localhost:8080/"
    },
    "id": "3a9faa69",
    "outputId": "cd336091-ae9c-4ec0-cdfe-1cbf3f19d504"
   },
   "outputs": [
    {
     "data": {
      "text/plain": [
       "array([[  0,  10,  20,  30],\n",
       "       [ 40,  50,  60,  70],\n",
       "       [ 80,  90, 100, 110]])"
      ]
     },
     "execution_count": 253,
     "metadata": {},
     "output_type": "execute_result"
    }
   ],
   "source": [
    "tens = np.arange(0, 120, 10).reshape(3, 4)\n",
    "tens"
   ]
  },
  {
   "cell_type": "code",
   "execution_count": 254,
   "id": "a1983e0d",
   "metadata": {
    "colab": {
     "base_uri": "https://localhost:8080/"
    },
    "id": "a1983e0d",
    "outputId": "0dc0870a-d00f-49fc-e457-c35a5e48a32c"
   },
   "outputs": [
    {
     "data": {
      "text/plain": [
       "array([[-5,  0,  5, 10],\n",
       "       [35, 40, 45, 50],\n",
       "       [75, 80, 85, 90]])"
      ]
     },
     "execution_count": 254,
     "metadata": {},
     "output_type": "execute_result"
    }
   ],
   "source": [
    "horizontal = np.array([-5, -10, -15, -20])\n",
    "\n",
    "tens + horizontal"
   ]
  },
  {
   "cell_type": "code",
   "execution_count": 255,
   "id": "309f58eb",
   "metadata": {
    "colab": {
     "base_uri": "https://localhost:8080/"
    },
    "id": "309f58eb",
    "outputId": "a864d48e-1516-45d0-a2eb-6138168a82be"
   },
   "outputs": [
    {
     "data": {
      "text/plain": [
       "array([[100, 110, 120, 130],\n",
       "       [240, 250, 260, 270],\n",
       "       [380, 390, 400, 410]])"
      ]
     },
     "execution_count": 255,
     "metadata": {},
     "output_type": "execute_result"
    }
   ],
   "source": [
    "vertical = np.array([[100],\n",
    "                     [200],\n",
    "                     [300]])\n",
    "tens + vertical"
   ]
  },
  {
   "cell_type": "markdown",
   "id": "1094644a",
   "metadata": {
    "id": "1094644a"
   },
   "source": [
    "We can still calculate statistics for multidimensional arrays, but we must specify the axis to calculate over. To calculate values for each column, we use `axis=0`. To calculate for each row, we use `axis=1`.\n",
    "\n",
    "#### 1. `axis=0`: Column-wise Operation\n",
    "\n",
    "When you set `axis=0`, the operation is performed along the vertical axis of the array, i.e., down the rows. This is often referred to as a column-wise operation.\n",
    "\n",
    "- **In a 2D array**: This calculates the mean of each column.\n",
    "- **Example**: If you have a 2x3 array (2 rows, 3 columns), using `axis=0` with `.mean()` will result in a 1D array with 3 elements, each being the mean of the columns.\n",
    "\n",
    "#### 2. `axis=1`: Row-wise Operation\n",
    "\n",
    "Conversely, when you set `axis=1`, the operation is performed along the horizontal axis of the array, i.e., across the columns. This is referred to as a row-wise operation.\n",
    "\n",
    "- **In a 2D array**: This calculates the mean of each row.\n",
    "- **Example**: If you have a 2x3 array, using `axis=1` with `.mean()` will yield a 1D array with 2 elements, each being the mean of the rows.\n",
    "\n",
    "#### Summary\n",
    "\n",
    "- `axis=0`: Column-wise operation (down the rows).\n",
    "- `axis=1`: Row-wise operation (across the columns)."
   ]
  },
  {
   "cell_type": "code",
   "execution_count": 256,
   "id": "644e8ba0",
   "metadata": {},
   "outputs": [
    {
     "data": {
      "text/plain": [
       "array([[  0,  10,  20,  30],\n",
       "       [ 40,  50,  60,  70],\n",
       "       [ 80,  90, 100, 110]])"
      ]
     },
     "execution_count": 256,
     "metadata": {},
     "output_type": "execute_result"
    }
   ],
   "source": [
    "tens"
   ]
  },
  {
   "cell_type": "code",
   "execution_count": 257,
   "id": "b3c1440f",
   "metadata": {
    "colab": {
     "base_uri": "https://localhost:8080/"
    },
    "id": "b3c1440f",
    "outputId": "0e5891f0-4117-46f2-b31f-5847ee0ba96c"
   },
   "outputs": [
    {
     "data": {
      "text/plain": [
       "array([40., 50., 60., 70.])"
      ]
     },
     "execution_count": 257,
     "metadata": {},
     "output_type": "execute_result"
    }
   ],
   "source": [
    "tens.mean(axis=0)"
   ]
  },
  {
   "cell_type": "code",
   "execution_count": 258,
   "id": "d332e5f7",
   "metadata": {
    "colab": {
     "base_uri": "https://localhost:8080/"
    },
    "id": "d332e5f7",
    "outputId": "454c27eb-ffaa-4d02-a4e1-9a1bda31c7be"
   },
   "outputs": [
    {
     "data": {
      "text/plain": [
       "array([15., 55., 95.])"
      ]
     },
     "execution_count": 258,
     "metadata": {},
     "output_type": "execute_result"
    }
   ],
   "source": [
    "tens.mean(axis=1)\n"
   ]
  },
  {
   "cell_type": "markdown",
   "id": "a2628461",
   "metadata": {
    "id": "a2628461"
   },
   "source": [
    "## Indexing, slicing, and iterating\n",
    "\n",
    "We can index and slice arrays like we would a list."
   ]
  },
  {
   "cell_type": "code",
   "execution_count": 259,
   "id": "5b09c0ee",
   "metadata": {
    "colab": {
     "base_uri": "https://localhost:8080/"
    },
    "id": "5b09c0ee",
    "outputId": "4872f924-f8ab-4df0-ce2e-cd874b72e417"
   },
   "outputs": [
    {
     "data": {
      "text/plain": [
       "array([ 5, 10, 15, 20])"
      ]
     },
     "execution_count": 259,
     "metadata": {},
     "output_type": "execute_result"
    }
   ],
   "source": [
    "arr1"
   ]
  },
  {
   "cell_type": "code",
   "execution_count": 260,
   "id": "a353dd04",
   "metadata": {
    "colab": {
     "base_uri": "https://localhost:8080/"
    },
    "id": "a353dd04",
    "outputId": "1ba7264a-6d17-4d21-8258-6c3a6589d8f7"
   },
   "outputs": [
    {
     "data": {
      "text/plain": [
       "10"
      ]
     },
     "execution_count": 260,
     "metadata": {},
     "output_type": "execute_result"
    }
   ],
   "source": [
    "arr1[1]"
   ]
  },
  {
   "cell_type": "code",
   "execution_count": 261,
   "id": "47f8ffeb",
   "metadata": {
    "colab": {
     "base_uri": "https://localhost:8080/"
    },
    "id": "47f8ffeb",
    "outputId": "040a8a4b-14e5-4476-de84-de24bd9844fb"
   },
   "outputs": [
    {
     "data": {
      "text/plain": [
       "array([10, 15])"
      ]
     },
     "execution_count": 261,
     "metadata": {},
     "output_type": "execute_result"
    }
   ],
   "source": [
    "arr1[1:3]"
   ]
  },
  {
   "cell_type": "markdown",
   "id": "93d7176b",
   "metadata": {
    "id": "93d7176b"
   },
   "source": [
    "We can iterate over arrays as well, though vectorized `numpy` operations are preferred when possible."
   ]
  },
  {
   "cell_type": "code",
   "execution_count": 262,
   "id": "649cbd88",
   "metadata": {
    "colab": {
     "base_uri": "https://localhost:8080/"
    },
    "id": "649cbd88",
    "outputId": "3bc02537-1202-47bd-f219-472ee38e832a"
   },
   "outputs": [
    {
     "name": "stdout",
     "output_type": "stream",
     "text": [
      "5\n",
      "10\n",
      "15\n",
      "20\n"
     ]
    }
   ],
   "source": [
    "for i in arr1:\n",
    "    print(i)"
   ]
  },
  {
   "cell_type": "markdown",
   "id": "e1f1ae92",
   "metadata": {
    "id": "e1f1ae92"
   },
   "source": [
    "Multidimensional arrays like matrices have one index per axis. We can pass in more than one index within the square brackets."
   ]
  },
  {
   "cell_type": "code",
   "execution_count": 263,
   "id": "53cf1386",
   "metadata": {
    "colab": {
     "base_uri": "https://localhost:8080/"
    },
    "id": "53cf1386",
    "outputId": "58ee4d97-3462-4078-f7c7-3481a24f0eea"
   },
   "outputs": [
    {
     "data": {
      "text/plain": [
       "array([[  0,  10,  20,  30],\n",
       "       [ 40,  50,  60,  70],\n",
       "       [ 80,  90, 100, 110]])"
      ]
     },
     "execution_count": 263,
     "metadata": {},
     "output_type": "execute_result"
    }
   ],
   "source": [
    "tens"
   ]
  },
  {
   "cell_type": "code",
   "execution_count": 264,
   "id": "261defc4",
   "metadata": {
    "colab": {
     "base_uri": "https://localhost:8080/"
    },
    "id": "261defc4",
    "outputId": "0327418b-6673-4276-8174-0592fd0f8986"
   },
   "outputs": [
    {
     "data": {
      "text/plain": [
       "60"
      ]
     },
     "execution_count": 264,
     "metadata": {},
     "output_type": "execute_result"
    }
   ],
   "source": [
    "# indexing goes row, column\n",
    "tens[1, 2]"
   ]
  },
  {
   "cell_type": "code",
   "execution_count": 265,
   "id": "6947bfd8",
   "metadata": {
    "colab": {
     "base_uri": "https://localhost:8080/"
    },
    "id": "6947bfd8",
    "outputId": "2f749b3d-cdc7-4b88-d5ef-775a7b3d6bb5"
   },
   "outputs": [
    {
     "data": {
      "text/plain": [
       "array([ 0, 10, 20, 30])"
      ]
     },
     "execution_count": 265,
     "metadata": {},
     "output_type": "execute_result"
    }
   ],
   "source": [
    "# get the first row\n",
    "tens[0]"
   ]
  },
  {
   "cell_type": "code",
   "execution_count": 266,
   "id": "f3dffa04",
   "metadata": {
    "colab": {
     "base_uri": "https://localhost:8080/"
    },
    "id": "f3dffa04",
    "outputId": "96b8dd07-24c2-4b7e-fe5c-e3c1b86781ee"
   },
   "outputs": [
    {
     "data": {
      "text/plain": [
       "array([ 0, 40, 80])"
      ]
     },
     "execution_count": 266,
     "metadata": {},
     "output_type": "execute_result"
    }
   ],
   "source": [
    "# get the first column\n",
    "tens[:,0]"
   ]
  },
  {
   "cell_type": "code",
   "execution_count": 267,
   "id": "7bce7754",
   "metadata": {},
   "outputs": [
    {
     "data": {
      "text/plain": [
       "array([[  0,  10,  20,  30],\n",
       "       [ 40,  50,  60,  70],\n",
       "       [ 80,  90, 100, 110]])"
      ]
     },
     "execution_count": 267,
     "metadata": {},
     "output_type": "execute_result"
    }
   ],
   "source": [
    "tens"
   ]
  },
  {
   "cell_type": "code",
   "execution_count": 268,
   "id": "7d0c42cc",
   "metadata": {
    "colab": {
     "base_uri": "https://localhost:8080/"
    },
    "id": "7d0c42cc",
    "outputId": "434273a4-e68f-421d-e901-4d0b05088fb8"
   },
   "outputs": [
    {
     "data": {
      "text/plain": [
       "array([[10, 20],\n",
       "       [50, 60]])"
      ]
     },
     "execution_count": 268,
     "metadata": {},
     "output_type": "execute_result"
    }
   ],
   "source": [
    "# slice rows 1-2, columns 2-3\n",
    "tens[0:2, 1:3]"
   ]
  },
  {
   "cell_type": "markdown",
   "id": "425049f9",
   "metadata": {
    "id": "425049f9"
   },
   "source": [
    "## Mutations and copies\n",
    "\n",
    "We can also update individual elements in an array. Note that any variables that refer to that array will also change, just like with mutating lists. To make an independent copy of an array, use the `.copy()` method."
   ]
  },
  {
   "cell_type": "code",
   "execution_count": 269,
   "id": "72097846",
   "metadata": {
    "colab": {
     "base_uri": "https://localhost:8080/"
    },
    "id": "72097846",
    "outputId": "ebac9615-ab43-4ff6-8020-a6af5dc27e83"
   },
   "outputs": [
    {
     "data": {
      "text/plain": [
       "array([[ 5,  3,  5,  8],\n",
       "       [ 8, 10,  2,  8],\n",
       "       [ 1,  7, 10, 10]])"
      ]
     },
     "execution_count": 269,
     "metadata": {},
     "output_type": "execute_result"
    }
   ],
   "source": [
    "# create a 3x4 array of random integers\n",
    "matrix = np.random.randint(1, 11, 12).reshape(3, 4)\n",
    "matrix2 = matrix\n",
    "\n",
    "#make a copy\n",
    "matrix3 = matrix.copy()\n",
    "\n",
    "matrix"
   ]
  },
  {
   "cell_type": "code",
   "execution_count": 270,
   "id": "1ecbd90a",
   "metadata": {},
   "outputs": [
    {
     "data": {
      "text/plain": [
       "array([[ 5,  3,  5,  8],\n",
       "       [ 8, 10,  2,  8],\n",
       "       [ 1,  7, 10, 10]])"
      ]
     },
     "execution_count": 270,
     "metadata": {},
     "output_type": "execute_result"
    }
   ],
   "source": [
    "matrix2"
   ]
  },
  {
   "cell_type": "code",
   "execution_count": 271,
   "id": "b2531f66",
   "metadata": {},
   "outputs": [
    {
     "data": {
      "text/plain": [
       "array([[ 5,  3,  5,  8],\n",
       "       [ 8, 10,  2,  8],\n",
       "       [ 1,  7, 10, 10]])"
      ]
     },
     "execution_count": 271,
     "metadata": {},
     "output_type": "execute_result"
    }
   ],
   "source": [
    "matrix3"
   ]
  },
  {
   "cell_type": "code",
   "execution_count": 272,
   "id": "ddaa9d8d",
   "metadata": {
    "colab": {
     "base_uri": "https://localhost:8080/"
    },
    "id": "ddaa9d8d",
    "outputId": "65737a83-53ca-46b6-f622-b262151d1d3b"
   },
   "outputs": [
    {
     "data": {
      "text/plain": [
       "array([[ 5,  3,  5,  8],\n",
       "       [ 0,  0,  0,  0],\n",
       "       [ 1,  7, 10, 10]])"
      ]
     },
     "execution_count": 272,
     "metadata": {},
     "output_type": "execute_result"
    }
   ],
   "source": [
    "# replace the second row\n",
    "matrix2[1] = [0, 0, 0, 0]\n",
    "matrix2"
   ]
  },
  {
   "cell_type": "code",
   "execution_count": 273,
   "id": "a2aaf95f",
   "metadata": {
    "colab": {
     "base_uri": "https://localhost:8080/"
    },
    "id": "a2aaf95f",
    "outputId": "b92d347d-a62a-49b1-9599-c0342ccf2ce1"
   },
   "outputs": [
    {
     "data": {
      "text/plain": [
       "array([[ 5,  3,  5,  8],\n",
       "       [ 0,  0,  0,  0],\n",
       "       [ 1,  7, 10, 10]])"
      ]
     },
     "execution_count": 273,
     "metadata": {},
     "output_type": "execute_result"
    }
   ],
   "source": [
    "# the original also changed\n",
    "matrix"
   ]
  },
  {
   "cell_type": "code",
   "execution_count": 274,
   "id": "8e084715",
   "metadata": {
    "colab": {
     "base_uri": "https://localhost:8080/"
    },
    "id": "8e084715",
    "outputId": "5631f106-97cd-4c14-ba66-4f39aa9cc566"
   },
   "outputs": [
    {
     "data": {
      "text/plain": [
       "array([[ 5,  3,  5,  8],\n",
       "       [ 8, 10,  2,  8],\n",
       "       [ 1,  7, 10, 10]])"
      ]
     },
     "execution_count": 274,
     "metadata": {},
     "output_type": "execute_result"
    }
   ],
   "source": [
    "# the copy did not\n",
    "matrix3"
   ]
  },
  {
   "cell_type": "code",
   "execution_count": 275,
   "id": "01ad61ef",
   "metadata": {},
   "outputs": [],
   "source": [
    "matrix = np.random.randint(1, 11, 12).reshape(3, 4)\n",
    "matrix2 = matrix"
   ]
  },
  {
   "cell_type": "code",
   "execution_count": 276,
   "id": "6ea9f47c",
   "metadata": {},
   "outputs": [],
   "source": [
    "matrix3 = matrix.copy()"
   ]
  },
  {
   "cell_type": "code",
   "execution_count": 277,
   "id": "df28d679",
   "metadata": {},
   "outputs": [
    {
     "data": {
      "text/plain": [
       "array([[ 8,  7, 10,  2],\n",
       "       [ 1,  2,  9,  9],\n",
       "       [ 4, 10,  9,  8]])"
      ]
     },
     "execution_count": 277,
     "metadata": {},
     "output_type": "execute_result"
    }
   ],
   "source": [
    "matrix"
   ]
  },
  {
   "cell_type": "code",
   "execution_count": 278,
   "id": "af15bbe3",
   "metadata": {},
   "outputs": [
    {
     "data": {
      "text/plain": [
       "array([[ 8,  7, 10,  2],\n",
       "       [ 1,  2,  9,  9],\n",
       "       [ 4, 10,  9,  8]])"
      ]
     },
     "execution_count": 278,
     "metadata": {},
     "output_type": "execute_result"
    }
   ],
   "source": [
    "matrix2"
   ]
  },
  {
   "cell_type": "code",
   "execution_count": 279,
   "id": "a3e4c58b",
   "metadata": {},
   "outputs": [
    {
     "data": {
      "text/plain": [
       "array([[ 8,  7, 10,  2],\n",
       "       [ 1,  2,  9,  9],\n",
       "       [ 4, 10,  9,  8]])"
      ]
     },
     "execution_count": 279,
     "metadata": {},
     "output_type": "execute_result"
    }
   ],
   "source": [
    "matrix3"
   ]
  },
  {
   "cell_type": "markdown",
   "id": "f3f13b89",
   "metadata": {
    "id": "f3f13b89"
   },
   "source": [
    "## Logic and filtering\n",
    "\n",
    "`numpy` arrays work with boolean expressions. Each element is checked, and the result is an array of `True`/`False` values. They resulting arrays sometimes called _masks_ because they are used to mask, or filter, data."
   ]
  },
  {
   "cell_type": "code",
   "execution_count": 280,
   "id": "5f267d1d",
   "metadata": {
    "colab": {
     "base_uri": "https://localhost:8080/"
    },
    "id": "5f267d1d",
    "outputId": "890ddabe-7fec-4848-eb97-f66e28177d20"
   },
   "outputs": [
    {
     "data": {
      "text/plain": [
       "array([[  0,  10,  20,  30],\n",
       "       [ 40,  50,  60,  70],\n",
       "       [ 80,  90, 100, 110]])"
      ]
     },
     "execution_count": 280,
     "metadata": {},
     "output_type": "execute_result"
    }
   ],
   "source": [
    "tens"
   ]
  },
  {
   "cell_type": "code",
   "execution_count": 281,
   "id": "2b39604e",
   "metadata": {
    "colab": {
     "base_uri": "https://localhost:8080/"
    },
    "id": "2b39604e",
    "outputId": "1f61d0bf-b83c-4ab2-e196-911f7205584d"
   },
   "outputs": [
    {
     "data": {
      "text/plain": [
       "array([[ True, False, False,  True],\n",
       "       [False, False,  True, False],\n",
       "       [False,  True, False, False]])"
      ]
     },
     "execution_count": 281,
     "metadata": {},
     "output_type": "execute_result"
    }
   ],
   "source": [
    "# evaluate whether each element is divisible by 3\n",
    "tens % 3 == 0"
   ]
  },
  {
   "cell_type": "code",
   "execution_count": 282,
   "id": "f0cff4b0",
   "metadata": {
    "colab": {
     "base_uri": "https://localhost:8080/"
    },
    "id": "f0cff4b0",
    "outputId": "1686ff21-8213-44c7-ec36-26b881b46f19"
   },
   "outputs": [
    {
     "data": {
      "text/plain": [
       "[[True, False, False, True],\n",
       " [False, False, True, False],\n",
       " [False, True, False, False]]"
      ]
     },
     "execution_count": 282,
     "metadata": {},
     "output_type": "execute_result"
    }
   ],
   "source": [
    "# the same thing with for loops\n",
    "masked = []\n",
    "\n",
    "for row in tens:\n",
    "    masked_row = []\n",
    "    for col in row:\n",
    "        masked_row.append(col % 3 == 0)\n",
    "    masked.append(masked_row)\n",
    "\n",
    "masked"
   ]
  },
  {
   "cell_type": "markdown",
   "id": "bae12ead",
   "metadata": {
    "id": "bae12ead"
   },
   "source": [
    "To filter use a boolean expression as a mask, pass it into square brackets after the array to mask."
   ]
  },
  {
   "cell_type": "code",
   "execution_count": 283,
   "id": "6f5fa220",
   "metadata": {
    "colab": {
     "base_uri": "https://localhost:8080/"
    },
    "id": "6f5fa220",
    "outputId": "5c8a0521-0cec-4dcc-cd7c-bccd4e8cd271"
   },
   "outputs": [
    {
     "data": {
      "text/plain": [
       "array([ 0, 30, 60, 90])"
      ]
     },
     "execution_count": 283,
     "metadata": {},
     "output_type": "execute_result"
    }
   ],
   "source": [
    "tens[tens % 3 == 0]"
   ]
  },
  {
   "cell_type": "code",
   "execution_count": 284,
   "id": "0b7d3b7f",
   "metadata": {
    "colab": {
     "base_uri": "https://localhost:8080/"
    },
    "id": "0b7d3b7f",
    "outputId": "e5f0ad8a-7dc4-4b13-e9e4-5d925fc240cc"
   },
   "outputs": [
    {
     "data": {
      "text/plain": [
       "array([ 0, 30, 60, 90])"
      ]
     },
     "execution_count": 284,
     "metadata": {},
     "output_type": "execute_result"
    }
   ],
   "source": [
    "# also works\n",
    "mask = tens % 3 == 0\n",
    "tens[mask]"
   ]
  },
  {
   "cell_type": "code",
   "execution_count": 285,
   "id": "a2f02b2b",
   "metadata": {
    "colab": {
     "base_uri": "https://localhost:8080/"
    },
    "id": "a2f02b2b",
    "outputId": "aa03e388-00b2-45c3-fa36-f370d974f449"
   },
   "outputs": [
    {
     "data": {
      "text/plain": [
       "[0, 30, 60, 90]"
      ]
     },
     "execution_count": 285,
     "metadata": {},
     "output_type": "execute_result"
    }
   ],
   "source": [
    "# comparison in standard python\n",
    "filtered_data = []\n",
    "\n",
    "for row in tens:\n",
    "    for col in row:\n",
    "        if col % 3 == 0:\n",
    "            filtered_data.append(col)\n",
    "\n",
    "filtered_data"
   ]
  },
  {
   "cell_type": "markdown",
   "id": "cb4a4676",
   "metadata": {
    "id": "cb4a4676"
   },
   "source": [
    "We can even use masks to generate new arrays with conditionals. `np.where()` takes as its arguments a boolean expression, an expression to evaluate if `True`, and an expression to evaluate elsewise. This is analagous to creating a new array based on an old one with a `for` loop and `if`/`else` statements, but much faster."
   ]
  },
  {
   "cell_type": "code",
   "execution_count": 286,
   "id": "71a2aa2d",
   "metadata": {
    "colab": {
     "base_uri": "https://localhost:8080/"
    },
    "id": "71a2aa2d",
    "outputId": "2e508d65-a12d-4cee-8e61-5746fee05239"
   },
   "outputs": [
    {
     "data": {
      "text/plain": [
       "array([[ 0,  0,  0, 30],\n",
       "       [ 0,  0, 60,  0],\n",
       "       [ 0, 90,  0,  0]])"
      ]
     },
     "execution_count": 286,
     "metadata": {},
     "output_type": "execute_result"
    }
   ],
   "source": [
    "np.where(tens % 3 == 0,  # condition\n",
    "         tens,  # return the element if True\n",
    "         0)  # return 0 if False"
   ]
  },
  {
   "cell_type": "code",
   "execution_count": 287,
   "id": "b207b630",
   "metadata": {
    "colab": {
     "base_uri": "https://localhost:8080/"
    },
    "id": "b207b630",
    "outputId": "34b1fa63-e905-4ab1-e039-3b146b41cef4"
   },
   "outputs": [
    {
     "data": {
      "text/plain": [
       "[[0, 0, 0, 30], [0, 0, 60, 0], [0, 90, 0, 0]]"
      ]
     },
     "execution_count": 287,
     "metadata": {},
     "output_type": "execute_result"
    }
   ],
   "source": [
    "result = []\n",
    "\n",
    "for row in tens:\n",
    "    result_row = []\n",
    "    for col in row:\n",
    "        if col % 3 == 0:\n",
    "            result_row.append(col)\n",
    "        else:\n",
    "            result_row.append(0)\n",
    "    result.append(result_row)\n",
    "\n",
    "result"
   ]
  },
  {
   "cell_type": "markdown",
   "id": "6536654d",
   "metadata": {
    "id": "6536654d"
   },
   "source": [
    "## Loading flat files to `numpy` arrays\n",
    "\n",
    "We can also load data from files into `numpy` arrays. Recall the California housing csv we loaded earlier:"
   ]
  },
  {
   "cell_type": "code",
   "execution_count": 288,
   "id": "4f53edf1",
   "metadata": {
    "colab": {
     "base_uri": "https://localhost:8080/"
    },
    "id": "4f53edf1",
    "outputId": "4d86bbd1-56aa-4ad4-c1e9-c37eea0990e4"
   },
   "outputs": [
    {
     "name": "stdout",
     "output_type": "stream",
     "text": [
      "\"longitude\",\"latitude\",\"housing_median_age\",\"total_rooms\",\"total_bedrooms\",\"population\",\"households\",\"median_income\",\"median_house_value\"\n",
      "\n",
      "-122.050000,37.370000,27.000000,3885.000000,661.000000,1537.000000,606.000000,6.608500,344700.000000\n",
      "\n",
      "-118.300000,34.260000,43.000000,1510.000000,310.000000,809.000000,277.000000,3.599000,176500.000000\n",
      "\n",
      "-117.810000,33.780000,27.000000,3589.000000,507.000000,1484.000000,495.000000,5.793400,270500.000000\n",
      "\n",
      "-118.360000,33.820000,28.000000,67.000000,15.000000,49.000000,11.000000,6.135900,330000.000000\n",
      "\n"
     ]
    }
   ],
   "source": [
    "with open('../../05_src/data/slides_data/california_housing_test.csv', 'r') as f:\n",
    "    # print the first five lines\n",
    "    for i in range(5):\n",
    "        print(f.readline())"
   ]
  },
  {
   "cell_type": "markdown",
   "id": "1b18537e",
   "metadata": {
    "id": "1b18537e"
   },
   "source": [
    "We can load this data to a `numpy` array using `genfromtxt()`, which takes a path to a file as an argument. We should also include a `delimiter` argument, indicating how values are separated. Useful optional arguments include `names`, which we can use to tell `numpy` that the first row contains column names; `skip_header`, which we can use to skip the first few lines; and arguments for how to handle missing values."
   ]
  },
  {
   "cell_type": "markdown",
   "id": "d811f466",
   "metadata": {
    "id": "d811f466"
   },
   "source": [
    "There is also `loadtxt()`, which is simpler than `genfromtxt()`. The former does not have options for using header names or handling missing values.\n",
    "To fill missing values, we need to set the `usemask` parameter to `True`. The result will be a masked array in that case, which we can then convert to a regular array with the `filled(np.nan)` method. Note that this only works for float columns."
   ]
  },
  {
   "cell_type": "code",
   "execution_count": 289,
   "id": "d11869bd",
   "metadata": {
    "colab": {
     "base_uri": "https://localhost:8080/"
    },
    "id": "d11869bd",
    "outputId": "86a00772-4c6b-4a62-a031-88fab7b69787"
   },
   "outputs": [
    {
     "data": {
      "text/plain": [
       "(3000, 9)"
      ]
     },
     "execution_count": 289,
     "metadata": {},
     "output_type": "execute_result"
    }
   ],
   "source": [
    "hd = np.loadtxt('../../05_src/data/slides_data/california_housing_test.csv',\n",
    "                delimiter=',',\n",
    "                skiprows=1)\n",
    "hd.shape"
   ]
  },
  {
   "cell_type": "code",
   "execution_count": 290,
   "id": "96435f13",
   "metadata": {
    "colab": {
     "base_uri": "https://localhost:8080/"
    },
    "id": "96435f13",
    "outputId": "24caf154-eeef-4264-aa70-e028180c5f69"
   },
   "outputs": [
    {
     "data": {
      "text/plain": [
       "array([(-122.05, 37.37, 27., 3885., 661., 1537., 606., 6.6085, 344700.),\n",
       "       (-118.3 , 34.26, 43., 1510., 310.,  809., 277., 3.599 , 176500.),\n",
       "       (-117.81, 33.78, 27., 3589., 507., 1484., 495., 5.7934, 270500.),\n",
       "       ...,\n",
       "       (-119.7 , 36.3 , 10.,  956., 201.,  693., 220., 2.2895,  62000.),\n",
       "       (-117.12, 34.1 , 40.,   96.,  14.,   46.,  14., 3.2708, 162500.),\n",
       "       (-119.63, 34.42, 42., 1765., 263.,  753., 260., 8.5608,     nan)],\n",
       "      dtype=[('longitude', '<f8'), ('latitude', '<f8'), ('housing_median_age', '<f8'), ('total_rooms', '<f8'), ('total_bedrooms', '<f8'), ('population', '<f8'), ('households', '<f8'), ('median_income', '<f8'), ('median_house_value', '<f8')])"
      ]
     },
     "execution_count": 290,
     "metadata": {},
     "output_type": "execute_result"
    }
   ],
   "source": [
    "housing_data = np.genfromtxt('../../05_src/data/slides_data/california_housing_test.csv',\n",
    "                             delimiter=',',\n",
    "                             #skip_header=1,  # let's use names instead\n",
    "                             names=True,\n",
    "                             missing_values=500001.0,\n",
    "                             usemask=True  # replace missing values\n",
    "                            )\n",
    "\n",
    "housing_data.filled(np.nan)"
   ]
  },
  {
   "cell_type": "markdown",
   "id": "acf39b55",
   "metadata": {
    "id": "acf39b55"
   },
   "source": [
    "If you look closely, the array we got back is not a matrix. Each row looks like a tuple with comma-separated values. If we check the `shape`, we see 3000 rows and what looks like no columns. The `dtype` attribute lists all our field names."
   ]
  },
  {
   "cell_type": "code",
   "execution_count": 291,
   "id": "3c0b6b97",
   "metadata": {
    "colab": {
     "base_uri": "https://localhost:8080/"
    },
    "id": "3c0b6b97",
    "outputId": "799a1be7-0b13-4f9e-cbef-338d80776576"
   },
   "outputs": [
    {
     "data": {
      "text/plain": [
       "(3000,)"
      ]
     },
     "execution_count": 291,
     "metadata": {},
     "output_type": "execute_result"
    }
   ],
   "source": [
    "housing_data.shape"
   ]
  },
  {
   "cell_type": "code",
   "execution_count": 292,
   "id": "47f76c0d",
   "metadata": {
    "colab": {
     "base_uri": "https://localhost:8080/"
    },
    "id": "47f76c0d",
    "outputId": "8380b1c1-bdfb-4c37-f1b3-fc8c2cdd6667"
   },
   "outputs": [
    {
     "data": {
      "text/plain": [
       "dtype([('longitude', '<f8'), ('latitude', '<f8'), ('housing_median_age', '<f8'), ('total_rooms', '<f8'), ('total_bedrooms', '<f8'), ('population', '<f8'), ('households', '<f8'), ('median_income', '<f8'), ('median_house_value', '<f8')])"
      ]
     },
     "execution_count": 292,
     "metadata": {},
     "output_type": "execute_result"
    }
   ],
   "source": [
    "housing_data.dtype"
   ]
  },
  {
   "cell_type": "markdown",
   "id": "d2979b21",
   "metadata": {
    "id": "d2979b21"
   },
   "source": [
    "In this case, `genfromtxt` returned a _structured array_, a different type of array than the ones we have seen so far. We can refer to fields by putting the field name as a string in square brackets, similar to referencing a dictionary key. However, we will soon see a data type in another package, `pandas`, that is even better suited to working with columns in tabular data like this."
   ]
  },
  {
   "cell_type": "code",
   "execution_count": 293,
   "id": "6e46f077",
   "metadata": {
    "colab": {
     "base_uri": "https://localhost:8080/"
    },
    "id": "6e46f077",
    "outputId": "d0ef0097-273c-4916-e7bd-d6e58aa14071"
   },
   "outputs": [
    {
     "name": "stderr",
     "output_type": "stream",
     "text": [
      "c:\\Users\\jcp_2\\anaconda3\\envs\\dsi_participant\\lib\\site-packages\\numpy\\core\\fromnumeric.py:771: UserWarning: Warning: 'partition' will ignore the 'mask' of the MaskedArray.\n",
      "  a.partition(kth, axis=axis, kind=kind, order=order)\n"
     ]
    },
    {
     "data": {
      "text/plain": [
       "29.0"
      ]
     },
     "execution_count": 293,
     "metadata": {},
     "output_type": "execute_result"
    }
   ],
   "source": [
    "np.median(housing_data['housing_median_age'])"
   ]
  },
  {
   "cell_type": "code",
   "execution_count": null,
   "id": "64ed4558",
   "metadata": {
    "colab": {
     "base_uri": "https://localhost:8080/"
    },
    "id": "64ed4558",
    "outputId": "319468cd-5d5a-4dc4-c9bc-0d4c3235f526"
   },
   "outputs": [
    {
     "data": {
      "text/plain": [
       "3.8072717999999997"
      ]
     },
     "execution_count": 294,
     "metadata": {},
     "output_type": "execute_result"
    }
   ],
   "source": [
    "housing_data['median_income'].mean()"
   ]
  },
  {
   "cell_type": "markdown",
   "id": "0d1c483c",
   "metadata": {
    "id": "0d1c483c"
   },
   "source": [
    "# References\n",
    "\n",
    "- NumPy. _Basic Numpy_. https://numpy.org/devdocs/user/quickstart.html\n",
    "- NumPy. _Numpy Routines_. https://numpy.org/doc/stable/reference/routines.html"
   ]
  }
 ],
 "metadata": {
  "celltoolbar": "Slideshow",
  "colab": {
   "provenance": []
  },
  "kernelspec": {
   "display_name": "dsi_participant",
   "language": "python",
   "name": "python3"
  },
  "language_info": {
   "codemirror_mode": {
    "name": "ipython",
    "version": 3
   },
   "file_extension": ".py",
   "mimetype": "text/x-python",
   "name": "python",
   "nbconvert_exporter": "python",
   "pygments_lexer": "ipython3",
   "version": "3.9.15"
  },
  "rise": {
   "scroll": true,
   "theme": "solarized",
   "transition": "none"
  }
 },
 "nbformat": 4,
 "nbformat_minor": 5
}
